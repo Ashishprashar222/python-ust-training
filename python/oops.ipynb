{
 "cells": [
  {
   "cell_type": "markdown",
   "id": "20e0fd4f",
   "metadata": {},
   "source": [
    "# OOPs"
   ]
  },
  {
   "cell_type": "code",
   "execution_count": 1,
   "id": "d370e7f0",
   "metadata": {},
   "outputs": [],
   "source": [
    "class Human:     #class\n",
    "    pass\n",
    "    print('empty class')\n"
   ]
  },
  {
   "cell_type": "code",
   "execution_count": 3,
   "id": "847e4a6d",
   "metadata": {},
   "outputs": [
    {
     "name": "stdout",
     "output_type": "stream",
     "text": [
      "empty class\n"
     ]
    },
    {
     "data": {
      "text/plain": [
       "<__main__.Human at 0x96c16dd520>"
      ]
     },
     "execution_count": 3,
     "metadata": {},
     "output_type": "execute_result"
    }
   ],
   "source": [
    "class Human:\n",
    "    pass\n",
    "    print('empty class')\n",
    "\n",
    "obj1=Human()  #creating object of Human class\n",
    "obj1"
   ]
  },
  {
   "cell_type": "code",
   "execution_count": 12,
   "id": "a2055b6a",
   "metadata": {},
   "outputs": [
    {
     "name": "stdout",
     "output_type": "stream",
     "text": [
      "All Objects are living beings\n",
      "All Objects are living beings\n",
      "Name is Joginder Gender Male Age 25\n",
      "Name is Kangna Gender Female Age 39\n",
      "Name is lakshmi bomb Gender Trans Age 56\n"
     ]
    }
   ],
   "source": [
    "class Human:\n",
    "    species='living beings'  #class attribute\n",
    "    \n",
    "    def __init__(self,name,gender,age):  #instance attribute\n",
    "        self.name=name\n",
    "        self.gender=gender\n",
    "        self.age=age\n",
    "m=Human('Joginder','Male',25)\n",
    "f=Human('Kangna','Female',39)\n",
    "t=Human('lakshmi bomb','Trans',56)\n",
    "\n",
    "# Accessing the class attribute\n",
    "print(f'All Objects are {Human.species}')  \n",
    "print(f'All Objects are {m.__class__.species}')\n",
    "\n",
    "# Accessing the instance attribute\n",
    "print(f'Name is {m.name} Gender {m.gender} Age {m.age}')\n",
    "print(f'Name is {f.name} Gender {f.gender} Age {f.age}')\n",
    "print(f'Name is {t.name} Gender {t.gender} Age {t.age}')"
   ]
  },
  {
   "cell_type": "code",
   "execution_count": 16,
   "id": "b75681ab",
   "metadata": {},
   "outputs": [
    {
     "name": "stdout",
     "output_type": "stream",
     "text": [
      "Ashish eat Dosa\n",
      "Ashish is sleeping.\n"
     ]
    }
   ],
   "source": [
    "class Test:\n",
    "    def __init__(self,name,age):\n",
    "        self.name=name\n",
    "        self.age=age\n",
    "#     instance method\n",
    "    def eat(self,food):\n",
    "        return f'{self.name} eat {food}'\n",
    "    def sleep(self):\n",
    "        return f'{self.name} is sleeping.'\n",
    "\n",
    "t=Test('Ashish',25)\n",
    "\n",
    "# calling instance methods\n",
    "print(t.eat('Dosa'))\n",
    "print(t.sleep())"
   ]
  },
  {
   "cell_type": "code",
   "execution_count": 19,
   "id": "40504102",
   "metadata": {},
   "outputs": [
    {
     "name": "stdout",
     "output_type": "stream",
     "text": [
      "Parent Class\n",
      "child class\n",
      "Anything\n",
      "Python\n",
      "caring\n"
     ]
    }
   ],
   "source": [
    "# inheritance\n",
    "class Man:\n",
    "    def __init__(self):\n",
    "        print('Parent Class')\n",
    "    def do(self):\n",
    "        print('Programming')\n",
    "    def program(self):\n",
    "        print('Python')\n",
    "\n",
    "class Father(Man):\n",
    "    def __init__(self):\n",
    "        super().__init__()\n",
    "        print('child class')\n",
    "    def do(self):\n",
    "        print('Anything')\n",
    "    def work(self):\n",
    "        print('caring')\n",
    "\n",
    "f=Father()\n",
    "f.do()\n",
    "f.program()\n",
    "f.work()\n"
   ]
  },
  {
   "cell_type": "code",
   "execution_count": 30,
   "id": "4637f1f6",
   "metadata": {},
   "outputs": [
    {
     "name": "stdout",
     "output_type": "stream",
     "text": [
      "price of  phone 900\n",
      "price of  phone 1100\n"
     ]
    }
   ],
   "source": [
    "# Encapsulation\n",
    "class Phone:\n",
    "    def __init__(self):\n",
    "        self.__maxprice=900\n",
    "    def sp(self):\n",
    "        print(f'price of  phone {self.__maxprice}')\n",
    "    def setmp(self,price):\n",
    "        self.__maxprice=price\n",
    "\n",
    "p=Phone()\n",
    "p.sp()\n",
    "\n",
    "p.setmp(1100)\n",
    "p.sp()\n",
    "        "
   ]
  },
  {
   "cell_type": "code",
   "execution_count": 31,
   "id": "18f8d0e4",
   "metadata": {},
   "outputs": [
    {
     "name": "stdout",
     "output_type": "stream",
     "text": [
      "dog eat pedegree\n",
      "cat have milk\n"
     ]
    }
   ],
   "source": [
    "# Polymorphism\n",
    "class Dog:\n",
    "    def bol(self):\n",
    "        print('dog bark')\n",
    "    def eat(self):\n",
    "        print('dog eat pedegree')\n",
    "\n",
    "class Cat:\n",
    "    def bol(self):\n",
    "        print('cat meao')\n",
    "    def eat(self):\n",
    "        print('cat have milk')\n",
    "    \n",
    "def call(aaa):\n",
    "    aaa.eat()\n",
    "\n",
    "d=Dog()\n",
    "c=Cat()\n",
    "\n",
    "call(d)\n",
    "call(c)"
   ]
  },
  {
   "cell_type": "code",
   "execution_count": 37,
   "id": "f8795bf2",
   "metadata": {},
   "outputs": [
    {
     "name": "stdout",
     "output_type": "stream",
     "text": [
      "aman is 54 years old\n"
     ]
    },
    {
     "data": {
      "text/plain": [
       "'aman says bhaw bhaw'"
      ]
     },
     "execution_count": 37,
     "metadata": {},
     "output_type": "execute_result"
    }
   ],
   "source": [
    "class Dog:\n",
    "    species = \"Canis familiaris\"\n",
    "\n",
    "    def __init__(self, name, age):\n",
    "        self.name = name\n",
    "        self.age = age\n",
    "\n",
    "    def __str__(self):\n",
    "        return f\"{self.name} is {self.age} years old\"\n",
    "\n",
    "    def speak(self, sound):\n",
    "        return f\"{self.name} says {sound}\"\n",
    "\n",
    "d=Dog('aman',54)\n",
    "print(d)\n",
    "d.speak('bhaw bhaw')"
   ]
  },
  {
   "cell_type": "code",
   "execution_count": 1,
   "id": "767b0708",
   "metadata": {},
   "outputs": [
    {
     "name": "stdout",
     "output_type": "stream",
     "text": [
      "Total saving of father : 5000\n"
     ]
    }
   ],
   "source": [
    "class Father:\n",
    "    def __init__(self,money):\n",
    "        self.money=money\n",
    "    def display(self):\n",
    "        print(f\"Total saving of father : {self.money}\")\n",
    "f=Father(5000)\n",
    "f.display()"
   ]
  },
  {
   "cell_type": "code",
   "execution_count": 50,
   "id": "027f7652",
   "metadata": {},
   "outputs": [
    {
     "name": "stdout",
     "output_type": "stream",
     "text": [
      "welcome\n",
      "Total saving of father : 5000\n",
      "final saving after son spend : 1500\n"
     ]
    }
   ],
   "source": [
    "class Father:\n",
    "    def __init__(self,money):\n",
    "        self.money=money\n",
    "    def display(self):\n",
    "        print(f\"Total saving of father : {self.money}\")\n",
    "\n",
    "class Son(Father):\n",
    "    def __init__(self,money,spend):   \n",
    "        self.spend=spend\n",
    "        Father.__init__(self,money)\n",
    "        \n",
    "      \n",
    "    \n",
    "    def finalsaving(self):\n",
    "        fn=self.money-self.spend\n",
    "        print('final saving after son spend :',fn)\n",
    "        \n",
    "# f=Father(5000)\n",
    "# f.display()\n",
    "\n",
    "s=Son(5000,3500)\n",
    "s.display()\n",
    "s.finalsaving()"
   ]
  },
  {
   "cell_type": "code",
   "execution_count": 67,
   "id": "9eca4a61",
   "metadata": {},
   "outputs": [
    {
     "name": "stdout",
     "output_type": "stream",
     "text": [
      "dont know\n",
      "eaating and sleeping\n",
      "50000\n",
      "kichri\n"
     ]
    }
   ],
   "source": [
    "class Papa:\n",
    "    def __init__(self):\n",
    "        print(\"papa ka class\")\n",
    "    def work(self):\n",
    "        print('manager')\n",
    "    def salary(self):\n",
    "        print(50000)\n",
    "class Mummy:\n",
    "    def __init__(self):\n",
    "        print(\"mummy ka class\") \n",
    "    def work(self):\n",
    "        print(\"house wife\")\n",
    "    def food(self):\n",
    "        print('kichri')\n",
    "            \n",
    "class Me(Mummy,Papa):\n",
    "    def __init__(self):\n",
    "        print('dont know')\n",
    "    def work(self):\n",
    "        print('eaating and sleeping')\n",
    "        \n",
    "Ashish=Me()\n",
    "Ashish.work()\n",
    "Ashish.salary()\n",
    "Ashish.food()\n",
    "        "
   ]
  },
  {
   "cell_type": "code",
   "execution_count": null,
   "id": "060ad10c",
   "metadata": {},
   "outputs": [],
   "source": []
  },
  {
   "cell_type": "code",
   "execution_count": null,
   "id": "3b83fe58",
   "metadata": {},
   "outputs": [],
   "source": []
  },
  {
   "cell_type": "code",
   "execution_count": null,
   "id": "d19f0350",
   "metadata": {},
   "outputs": [],
   "source": []
  },
  {
   "cell_type": "code",
   "execution_count": null,
   "id": "56e6c965",
   "metadata": {},
   "outputs": [],
   "source": []
  },
  {
   "cell_type": "code",
   "execution_count": null,
   "id": "96a7e543",
   "metadata": {},
   "outputs": [],
   "source": []
  }
 ],
 "metadata": {
  "kernelspec": {
   "display_name": "Python 3 (ipykernel)",
   "language": "python",
   "name": "python3"
  },
  "language_info": {
   "codemirror_mode": {
    "name": "ipython",
    "version": 3
   },
   "file_extension": ".py",
   "mimetype": "text/x-python",
   "name": "python",
   "nbconvert_exporter": "python",
   "pygments_lexer": "ipython3",
   "version": "3.9.7"
  }
 },
 "nbformat": 4,
 "nbformat_minor": 5
}
