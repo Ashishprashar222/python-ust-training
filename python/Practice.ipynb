{
 "cells": [
  {
   "cell_type": "code",
   "execution_count": 1,
   "id": "371c2259",
   "metadata": {},
   "outputs": [
    {
     "data": {
      "text/plain": [
       "['False',\n",
       " 'None',\n",
       " 'True',\n",
       " '__peg_parser__',\n",
       " 'and',\n",
       " 'as',\n",
       " 'assert',\n",
       " 'async',\n",
       " 'await',\n",
       " 'break',\n",
       " 'class',\n",
       " 'continue',\n",
       " 'def',\n",
       " 'del',\n",
       " 'elif',\n",
       " 'else',\n",
       " 'except',\n",
       " 'finally',\n",
       " 'for',\n",
       " 'from',\n",
       " 'global',\n",
       " 'if',\n",
       " 'import',\n",
       " 'in',\n",
       " 'is',\n",
       " 'lambda',\n",
       " 'nonlocal',\n",
       " 'not',\n",
       " 'or',\n",
       " 'pass',\n",
       " 'raise',\n",
       " 'return',\n",
       " 'try',\n",
       " 'while',\n",
       " 'with',\n",
       " 'yield']"
      ]
     },
     "execution_count": 1,
     "metadata": {},
     "output_type": "execute_result"
    }
   ],
   "source": [
    "import keyword\n",
    "keyword.kwlist"
   ]
  },
  {
   "cell_type": "code",
   "execution_count": 2,
   "id": "883c4f8c",
   "metadata": {},
   "outputs": [
    {
     "data": {
      "text/plain": [
       "True"
      ]
     },
     "execution_count": 2,
     "metadata": {},
     "output_type": "execute_result"
    }
   ],
   "source": [
    "keyword.iskeyword('try')"
   ]
  },
  {
   "cell_type": "code",
   "execution_count": 3,
   "id": "a6e5d19c",
   "metadata": {},
   "outputs": [
    {
     "name": "stdout",
     "output_type": "stream",
     "text": [
      "5\n"
     ]
    }
   ],
   "source": [
    "a=5  #variable\n",
    "print(a)"
   ]
  },
  {
   "cell_type": "code",
   "execution_count": 4,
   "id": "30e7f203",
   "metadata": {},
   "outputs": [
    {
     "name": "stdout",
     "output_type": "stream",
     "text": [
      "10\n",
      "30\n"
     ]
    }
   ],
   "source": [
    "a=10\n",
    "def check():\n",
    "    global a  #global varible\n",
    "    a+=20\n",
    "    print(a)\n",
    "print(a)\n",
    "check()"
   ]
  },
  {
   "cell_type": "code",
   "execution_count": 5,
   "id": "c99e2586",
   "metadata": {},
   "outputs": [
    {
     "name": "stdout",
     "output_type": "stream",
     "text": [
      "[1, 2, 4, 3, 4, 65, 6, 5]\n",
      "1\n",
      "4\n",
      "[4, 3]\n",
      "[1, 2, 4, 3]\n",
      "max 65\n",
      "min 1\n",
      "length 8\n"
     ]
    }
   ],
   "source": [
    "#list\n",
    "l1=[1,2,4,3,4,65,6,5]\n",
    "print(l1)\n",
    "print(l1[0])\n",
    "print(l1[4])\n",
    "print(l1[2:4])\n",
    "print(l1[:4])\n",
    "print(\"max\",max(l1))\n",
    "print(\"min\",min(l1))\n",
    "print(\"length\",len(l1))\n"
   ]
  },
  {
   "cell_type": "code",
   "execution_count": 6,
   "id": "423ba13a",
   "metadata": {},
   "outputs": [
    {
     "name": "stdout",
     "output_type": "stream",
     "text": [
      "['abc', 10, 'hgd', 'byee']\n",
      "['abc', 10, 'Ashish', 'hgd', 'byee']\n",
      "['abc', 10, 'Ashish', 'hgd', 'byee', 'A', 's', 'h', 'i', 's', 'h']\n"
     ]
    }
   ],
   "source": [
    "#append insert extend\n",
    "l1=['abc',10,\"hgd\"]\n",
    "l1.append('byee')   #add in the end\n",
    "print(l1)\n",
    "l1.insert(2,\"Ashish\")\n",
    "print(l1)\n",
    "l1.extend('Ashish')\n",
    "print(l1)"
   ]
  },
  {
   "cell_type": "code",
   "execution_count": 7,
   "id": "856b0fd3",
   "metadata": {},
   "outputs": [
    {
     "name": "stdout",
     "output_type": "stream",
     "text": [
      "['abc', 10]\n",
      "[10]\n"
     ]
    }
   ],
   "source": [
    "l1=['abc',10,\"hgd\"]\n",
    "l1.pop()  # remove last iten\n",
    "print(l1)\n",
    "l1.remove('abc')\n",
    "print(l1)"
   ]
  },
  {
   "cell_type": "code",
   "execution_count": 8,
   "id": "0b9aadfc",
   "metadata": {},
   "outputs": [
    {
     "name": "stdout",
     "output_type": "stream",
     "text": [
      "6\n",
      "[1, 3, 45, 6, 7, 65, 3, 2, 5, 6, 7, 6]\n",
      "[1, 3, 45, 6, 7, 65, 1, 3, 45, 6, 7, 65, 1, 3, 45, 6, 7, 65, 1, 3, 45, 6, 7, 65, 1, 3, 45, 6, 7, 65]\n"
     ]
    }
   ],
   "source": [
    "#list\n",
    "t1=[1,3,45,6,7,65]\n",
    "t2=[3,2,5,6,7,6]\n",
    "print(len(t2))\n",
    "print(t1+t2)\n",
    "print(t1*5)"
   ]
  },
  {
   "cell_type": "code",
   "execution_count": 9,
   "id": "232174bc",
   "metadata": {},
   "outputs": [
    {
     "name": "stdout",
     "output_type": "stream",
     "text": [
      "('a', 'b', 'c', 'd', 'e', 'f', 'g', 'h', 'e', 'f')\n",
      "e\n",
      "('f', 'g', 'h', 'e')\n",
      "5\n",
      "(54, 6, 65, 65, 756, 5, 5, 43, 43, 434, 323, 23)\n",
      "756\n",
      "max 756\n",
      "min 5\n",
      "length 12\n",
      "54\n",
      "6\n",
      "65\n",
      "65\n",
      "756\n",
      "5\n",
      "5\n",
      "43\n",
      "43\n",
      "434\n",
      "323\n",
      "23\n"
     ]
    }
   ],
   "source": [
    "#tuple\n",
    "t1=('a','b','c','d','e')\n",
    "t2=('f','g','h','e','f')\n",
    "t3=(54,6,65,65,756,5,5,43,43,434,323,23)\n",
    "print(t1+t2)\n",
    "print(t1[4])\n",
    "print(t2[0:4])\n",
    "print(len(t1))\n",
    "\n",
    "print(t3)\n",
    "print(max(t3))\n",
    "print(\"max\",max(t3))\n",
    "print(\"min\",min(t3))\n",
    "print(\"length\",len(t3))\n",
    "\n",
    "for i in t3: #for loop\n",
    "    print(i)"
   ]
  },
  {
   "cell_type": "code",
   "execution_count": 10,
   "id": "bb7df6fe",
   "metadata": {},
   "outputs": [
    {
     "data": {
      "text/plain": [
       "'multiline comment'"
      ]
     },
     "execution_count": 10,
     "metadata": {},
     "output_type": "execute_result"
    }
   ],
   "source": [
    "# single line Comment\n",
    "\"\"\"multiline comment\"\"\"\n"
   ]
  },
  {
   "cell_type": "code",
   "execution_count": 11,
   "id": "1b000a19",
   "metadata": {},
   "outputs": [
    {
     "name": "stdout",
     "output_type": "stream",
     "text": [
      "['mumbai', 'pune', 'goa', 'kolar']\n",
      "['kolar', 'goa', 'pune', 'mumbai']\n"
     ]
    }
   ],
   "source": [
    "list1=[\"mumbai\",\"pune\",\"goa\",\"kolar\"]\n",
    "print(list1)\n",
    "list1.reverse()\n",
    "print(list1)"
   ]
  },
  {
   "cell_type": "code",
   "execution_count": 12,
   "id": "7761d844",
   "metadata": {},
   "outputs": [
    {
     "name": "stdout",
     "output_type": "stream",
     "text": [
      "['mumbai', 'pune', 'goa', 'kolar']\n"
     ]
    }
   ],
   "source": [
    "list1=[\"mumbai\",\"pune\",\"goa\",\"kolar\"]\n",
    "# l2=list1\n",
    "l2=list1.copy()\n",
    "print(l2)"
   ]
  },
  {
   "cell_type": "code",
   "execution_count": 13,
   "id": "7313e7c0",
   "metadata": {},
   "outputs": [
    {
     "name": "stdout",
     "output_type": "stream",
     "text": [
      "0 mumbai\n",
      "1 pune\n",
      "2 goa\n",
      "3 kolar\n"
     ]
    }
   ],
   "source": [
    "list1=[\"mumbai\",\"pune\",\"goa\",\"kolar\"]\n",
    "i=0\n",
    "while i<len(list1):\n",
    "    print(i,list1[i])\n",
    "    i=i+1"
   ]
  },
  {
   "cell_type": "code",
   "execution_count": 14,
   "id": "2a22265d",
   "metadata": {},
   "outputs": [
    {
     "ename": "NameError",
     "evalue": "name 'x' is not defined",
     "output_type": "error",
     "traceback": [
      "\u001b[1;31m---------------------------------------------------------------------------\u001b[0m",
      "\u001b[1;31mNameError\u001b[0m                                 Traceback (most recent call last)",
      "\u001b[1;32m~\\AppData\\Local\\Temp/ipykernel_10768/2264082446.py\u001b[0m in \u001b[0;36m<module>\u001b[1;34m\u001b[0m\n\u001b[0;32m      2\u001b[0m \u001b[0my\u001b[0m\u001b[1;33m=\u001b[0m\u001b[1;33m[\u001b[0m\u001b[1;34m'sandeep'\u001b[0m\u001b[1;33m,\u001b[0m\u001b[1;34m'umrah'\u001b[0m\u001b[1;33m,\u001b[0m\u001b[1;34m'jeffry'\u001b[0m\u001b[1;33m,\u001b[0m\u001b[1;34m'ghousiya'\u001b[0m\u001b[1;33m]\u001b[0m    \u001b[1;31m#type conversion list to tuple\u001b[0m\u001b[1;33m\u001b[0m\u001b[1;33m\u001b[0m\u001b[0m\n\u001b[0;32m      3\u001b[0m \u001b[0my\u001b[0m\u001b[1;33m=\u001b[0m\u001b[0mtuple\u001b[0m\u001b[1;33m(\u001b[0m\u001b[0my\u001b[0m\u001b[1;33m)\u001b[0m\u001b[1;33m\u001b[0m\u001b[1;33m\u001b[0m\u001b[0m\n\u001b[1;32m----> 4\u001b[1;33m \u001b[0mprint\u001b[0m\u001b[1;33m(\u001b[0m\u001b[0mx\u001b[0m\u001b[1;33m)\u001b[0m\u001b[1;33m\u001b[0m\u001b[1;33m\u001b[0m\u001b[0m\n\u001b[0m",
      "\u001b[1;31mNameError\u001b[0m: name 'x' is not defined"
     ]
    }
   ],
   "source": [
    "# x=('sandeep','umrah','jeffry','ghousiya')\n",
    "y=['sandeep','umrah','jeffry','ghousiya']    #type conversion list to tuple\n",
    "x=tuple(y)\n",
    "print(x)"
   ]
  },
  {
   "cell_type": "code",
   "execution_count": 15,
   "id": "4d5078b8",
   "metadata": {},
   "outputs": [
    {
     "name": "stdout",
     "output_type": "stream",
     "text": [
      ", World\n"
     ]
    }
   ],
   "source": [
    "a=\"Hello, World\"\n",
    "# print(a[2:5])  \n",
    "print(a[5:])   #slicing"
   ]
  },
  {
   "cell_type": "code",
   "execution_count": 16,
   "id": "0807d91f",
   "metadata": {},
   "outputs": [
    {
     "name": "stdout",
     "output_type": "stream",
     "text": [
      "HELLO, WORLD\n"
     ]
    }
   ],
   "source": [
    "a=\"Hello, World\"\n",
    "print(a.upper())  #uppper case"
   ]
  },
  {
   "cell_type": "code",
   "execution_count": 17,
   "id": "b79ff948",
   "metadata": {},
   "outputs": [
    {
     "name": "stdout",
     "output_type": "stream",
     "text": [
      "hello, world\n"
     ]
    }
   ],
   "source": [
    "a=\"Hello, World\"\n",
    "print(a.lower()) #lower case"
   ]
  },
  {
   "cell_type": "code",
   "execution_count": 18,
   "id": "bd868295",
   "metadata": {},
   "outputs": [
    {
     "name": "stdout",
     "output_type": "stream",
     "text": [
      "Jello, World\n"
     ]
    }
   ],
   "source": [
    "a=\"Hello, World\"\n",
    "print(a.replace(\"H\", \"J\"))  #replacing "
   ]
  },
  {
   "cell_type": "code",
   "execution_count": 19,
   "id": "f9c2a0d6",
   "metadata": {},
   "outputs": [
    {
     "name": "stdout",
     "output_type": "stream",
     "text": [
      "Hellq, Wqrld\n"
     ]
    }
   ],
   "source": [
    "a=\"Hello, World\"\n",
    "print(a.replace(\"o\", \"q\"))"
   ]
  },
  {
   "cell_type": "code",
   "execution_count": 20,
   "id": "e2cf4e7e",
   "metadata": {},
   "outputs": [
    {
     "name": "stdout",
     "output_type": "stream",
     "text": [
      "helloworld\n"
     ]
    }
   ],
   "source": [
    "a = \"hello\"\n",
    "b =  \"world\"\n",
    "c = a + b\n",
    "print(c)  #concatination"
   ]
  },
  {
   "cell_type": "code",
   "execution_count": 21,
   "id": "715dabf7",
   "metadata": {},
   "outputs": [
    {
     "name": "stdout",
     "output_type": "stream",
     "text": [
      "35\n",
      "3\n",
      "304\n",
      "1.1875\n",
      "3\n",
      "1\n"
     ]
    }
   ],
   "source": [
    "# Working with operators\n",
    "# arithmetic oper\n",
    "a=19\n",
    "b=16\n",
    "print(a+b)\n",
    "print(a-b)\n",
    "print(a*b)\n",
    "print(a/b)\n",
    "print(a%b)\n",
    "print(a//b)\n"
   ]
  },
  {
   "cell_type": "code",
   "execution_count": 22,
   "id": "64359129",
   "metadata": {},
   "outputs": [
    {
     "name": "stdout",
     "output_type": "stream",
     "text": [
      "10\n",
      "20\n",
      "10\n",
      "10\n",
      "100\n"
     ]
    }
   ],
   "source": [
    "# assignment operator\n",
    "x=10\n",
    "print(x)\n",
    "x+=10\n",
    "print(x)\n",
    "x-=10\n",
    "print(x)\n",
    "\n",
    "a=10\n",
    "print(a)\n",
    "a*=10\n",
    "print(a)"
   ]
  },
  {
   "cell_type": "code",
   "execution_count": 23,
   "id": "5a78b3b1",
   "metadata": {},
   "outputs": [
    {
     "name": "stdout",
     "output_type": "stream",
     "text": [
      "False\n",
      "True\n",
      "True\n",
      "False\n",
      "True\n"
     ]
    }
   ],
   "source": [
    "# comparison Operator\n",
    "a,b=10,20\n",
    "print(a>b)\n",
    "print(a<b)\n",
    "print(a<=b)\n",
    "print(a>=b)\n",
    "print(a!=b)"
   ]
  },
  {
   "cell_type": "code",
   "execution_count": 24,
   "id": "04d090f5",
   "metadata": {},
   "outputs": [
    {
     "name": "stdout",
     "output_type": "stream",
     "text": [
      "False\n",
      "True\n",
      "False\n"
     ]
    }
   ],
   "source": [
    "# logical Operator\n",
    "a=True\n",
    "b=False\n",
    "print(a and b)\n",
    "print(a or b)\n",
    "print(a and b)"
   ]
  },
  {
   "cell_type": "code",
   "execution_count": 25,
   "id": "1f893692",
   "metadata": {},
   "outputs": [
    {
     "name": "stdout",
     "output_type": "stream",
     "text": [
      "5\n",
      "7\n",
      "-6\n",
      "0\n",
      "224\n",
      "6\n"
     ]
    }
   ],
   "source": [
    "# bitwise operator and\n",
    "a=7\n",
    "b=5\n",
    "print(a & b)#and\n",
    "print(a|b)# or\n",
    "print(~5)# not\n",
    "print(a>>b)#right shift\n",
    "print(a<<b)# left shift\n",
    "print(5^3)\n",
    "\n"
   ]
  },
  {
   "cell_type": "code",
   "execution_count": 26,
   "id": "aaffc7fa",
   "metadata": {},
   "outputs": [
    {
     "name": "stdout",
     "output_type": "stream",
     "text": [
      "True\n",
      "False\n"
     ]
    },
    {
     "name": "stderr",
     "output_type": "stream",
     "text": [
      "<>:3: SyntaxWarning: \"is\" with a literal. Did you mean \"==\"?\n",
      "<>:4: SyntaxWarning: \"is not\" with a literal. Did you mean \"!=\"?\n",
      "<>:3: SyntaxWarning: \"is\" with a literal. Did you mean \"==\"?\n",
      "<>:4: SyntaxWarning: \"is not\" with a literal. Did you mean \"!=\"?\n",
      "C:\\Users\\Admin\\AppData\\Local\\Temp/ipykernel_10768/832399738.py:3: SyntaxWarning: \"is\" with a literal. Did you mean \"==\"?\n",
      "  print(x is 10)\n",
      "C:\\Users\\Admin\\AppData\\Local\\Temp/ipykernel_10768/832399738.py:4: SyntaxWarning: \"is not\" with a literal. Did you mean \"!=\"?\n",
      "  print(x is not 10)\n"
     ]
    }
   ],
   "source": [
    "# Identity oper\n",
    "x=10\n",
    "print(x is 10)\n",
    "print(x is not 10)"
   ]
  },
  {
   "cell_type": "code",
   "execution_count": 27,
   "id": "d8f69b05",
   "metadata": {},
   "outputs": [
    {
     "name": "stdout",
     "output_type": "stream",
     "text": [
      "True\n",
      "False\n"
     ]
    }
   ],
   "source": [
    "# membership operator\n",
    "language=['python','java','c#','R']\n",
    "print('R' in language)\n",
    "print('python' not in language)"
   ]
  },
  {
   "cell_type": "code",
   "execution_count": 28,
   "id": "6f67e7ef",
   "metadata": {},
   "outputs": [
    {
     "name": "stdout",
     "output_type": "stream",
     "text": [
      "5\n",
      "{1, 3, 5, 6, 7}\n",
      "{1, 3, 5, 8, 'a', 'b'}\n",
      "{1, 3, 5, 6, 7, 8, 'a', 'b'}\n",
      "{1, 3, 5}\n",
      "{6, 7}\n",
      "1\n",
      "3\n",
      "5\n",
      "6\n",
      "7\n",
      "{1, 3, 5, 6, 7, 8, 'Ashish'}\n",
      "{1, 3, 'UST', 5, 6, 7, 8, 'Ashish', 'Kumar'}\n",
      "{1, 3, 'UST', 5, 6, 7, 8, 'Kumar'}\n",
      "{1, 3, 'UST', 5, 6, 7, 8}\n",
      "{3, 'UST', 5, 6, 7, 8}\n"
     ]
    }
   ],
   "source": [
    "# set\n",
    "myset={1,3,5,6,7}\n",
    "myset1={8,5,'b',3,1,'a'}\n",
    "print(len(myset))\n",
    "print(myset)\n",
    "print(myset1)\n",
    "\n",
    "print(myset|myset1) #union\n",
    "print(myset&myset1) #intersection\n",
    "print(myset-myset1)\n",
    "\n",
    "\n",
    "for i in myset:\n",
    "    print(i)\n",
    "    \n",
    "myset.add(8)\n",
    "myset.add('Ashish')\n",
    "print(myset)\n",
    "\n",
    "\n",
    "myset.update(['Kumar','UST'])\n",
    "print(myset)\n",
    "\n",
    "myset.remove(\"Ashish\")\n",
    "print(myset)\n",
    "\n",
    "myset.discard(\"Kumar\")\n",
    "print(myset)\n",
    "\n",
    "myset.pop()\n",
    "print(myset)\n",
    "\n"
   ]
  },
  {
   "cell_type": "markdown",
   "id": "e64c80ec",
   "metadata": {},
   "source": [
    "# dictonaries"
   ]
  },
  {
   "cell_type": "code",
   "execution_count": 29,
   "id": "6b645e0a",
   "metadata": {},
   "outputs": [
    {
     "name": "stdout",
     "output_type": "stream",
     "text": [
      "{'name': 'Ashish', 'emp_id': 215697, 'company': 'UST', 'location': 'bangalore'}\n",
      "dict_keys(['name', 'emp_id', 'company', 'location'])\n",
      "dict_values(['Ashish', 215697, 'UST', 'bangalore'])\n",
      "4\n",
      "{'name': 'Ashish', 'emp_id': 215697, 'company': 'UST', 'location': 'bangalore'}\n",
      "{}\n",
      "name : Ashish\n",
      "emp_id : 215697\n",
      "company : UST\n",
      "location : bangalore\n",
      "UST\n",
      "215697\n",
      "{'name': 'Ashish', 'emp_id': 215697, 'company': 'UST', 'location': 'bangalore', 'emp_age': 25}\n",
      "{'name': 'Ashish', 'emp_id': 215697, 'company': 'UST', 'emp_age': 25}\n",
      "{'emp_id': 215697, 'company': 'UST', 'emp_age': 25}\n"
     ]
    }
   ],
   "source": [
    "# dictonaries\n",
    "mydict= {\n",
    "    \"name\":\"Ashish\",\n",
    "    \"emp_id\": 215697,\n",
    "    \"company\":\"UST\",\n",
    "    \"location\":\"bangalore\"\n",
    "}\n",
    "\n",
    "print(mydict) #for print dict\n",
    "print(mydict.keys())  #only keys\n",
    "print(mydict.values()) #only Values\n",
    "print(len(mydict)) #length of dict\n",
    "\n",
    "# for copy\n",
    "d1=mydict.copy()\n",
    "print(d1)\n",
    "\n",
    "d1.clear() #clear the dict\n",
    "print(d1)\n",
    "\n",
    "for i in mydict:\n",
    "    print(i,':',mydict[i])    #iterating dict key value  \n",
    "\n",
    "print(mydict['company']) #diplay value for the key\n",
    "print(mydict['emp_id'])#diplay value for the key\n",
    "\n",
    "mydict['emp_age']=25 #add item in the keys\n",
    "print(mydict)\n",
    "\n",
    "del mydict['location'] #deleting item from th dict\n",
    "print(mydict)\n",
    "\n",
    "mydict.pop('name') #removing item from the dict\n",
    "print(mydict)\n",
    "\n",
    "\n",
    "\n"
   ]
  },
  {
   "cell_type": "code",
   "execution_count": 30,
   "id": "eb61dcf7",
   "metadata": {},
   "outputs": [
    {
     "name": "stdout",
     "output_type": "stream",
     "text": [
      "['a', 'b', 'c', 'd']\n"
     ]
    }
   ],
   "source": [
    "mylist=['a','b','c','d','c','d']\n",
    "mylist=list(dict.fromkeys(mylist))\n",
    "print(mylist)"
   ]
  },
  {
   "cell_type": "code",
   "execution_count": 31,
   "id": "b16ea5a9",
   "metadata": {},
   "outputs": [
    {
     "data": {
      "text/plain": [
       "4"
      ]
     },
     "execution_count": 31,
     "metadata": {},
     "output_type": "execute_result"
    }
   ],
   "source": [
    "s=\"ashish is working in ust\"\n",
    "s.count('s')"
   ]
  },
  {
   "cell_type": "code",
   "execution_count": 32,
   "id": "0eaa4845",
   "metadata": {},
   "outputs": [
    {
     "name": "stdout",
     "output_type": "stream",
     "text": [
      "3\n",
      "1\n"
     ]
    }
   ],
   "source": [
    "words = ['hello', 'goodbye', 'howdy', 'hello', 'hello', 'hi', 'bye']\n",
    "\n",
    "print(words.count(\"hello\"))\n",
    "print(words.count(\"howdy\"))\n"
   ]
  },
  {
   "cell_type": "markdown",
   "id": "ddb9ddf7",
   "metadata": {},
   "source": [
    "# String"
   ]
  },
  {
   "cell_type": "code",
   "execution_count": 54,
   "id": "d839ff2f",
   "metadata": {},
   "outputs": [
    {
     "name": "stdout",
     "output_type": "stream",
     "text": [
      "ASHISH\n",
      "kumar\n",
      "ashishkUMAR\n",
      "3\n",
      "my kumar is ashish\n",
      "['my', 'name', 'is', 'ashish']\n",
      "my name is ashish\n",
      "lets do something  but what, play do something  but what, sleep do something  but what, study\n",
      "lets*play*sleep*study\n",
      "15\n",
      "thing  \n"
     ]
    }
   ],
   "source": [
    "s=\"ashish\"\n",
    "print(s.upper())\n",
    "k=\"kUMAR\"\n",
    "print(k.lower())\n",
    "print(s+k)\n",
    "w_count=\"my name is ashish\"\n",
    "print(w_count.count('s'))\n",
    "print(w_count.replace('name','kumar'))\n",
    "print(w_count.split())\n",
    "spacing='  sajdhk kdjskfh    fkshfk ksfkdf  ksfksf kshfkshf'\n",
    "print(w_count.strip(' '))\n",
    "d=\" do something  but what, \"\n",
    "l=['lets','play','sleep','study']\n",
    "print(d.join(l))\n",
    "print(\"*\".join(l))\n",
    "print(d.find('but'))\n",
    "print(d[8:15])\n"
   ]
  },
  {
   "cell_type": "markdown",
   "id": "7bbc31db",
   "metadata": {},
   "source": [
    "# Conditional Statement"
   ]
  },
  {
   "cell_type": "code",
   "execution_count": 56,
   "id": "9a1e0956",
   "metadata": {},
   "outputs": [
    {
     "name": "stdout",
     "output_type": "stream",
     "text": [
      "Ture\n"
     ]
    }
   ],
   "source": [
    "a=33\n",
    "b=220\n",
    "if b>a:\n",
    "    print(\"Ture\")\n",
    "else:\n",
    "    print(\"false\")"
   ]
  },
  {
   "cell_type": "code",
   "execution_count": 57,
   "id": "e5268683",
   "metadata": {},
   "outputs": [
    {
     "name": "stdout",
     "output_type": "stream",
     "text": [
      "B is greater\n"
     ]
    }
   ],
   "source": [
    "a=333\n",
    "b=220\n",
    "if b>a:\n",
    "    print(\"B is greater\")\n",
    "elif a==b:\n",
    "    print(\"Equal\")\n",
    "elif a>b:\n",
    "    print(\"A is greater\")\n",
    "else:\n",
    "    print(\"Dont know\")"
   ]
  },
  {
   "cell_type": "code",
   "execution_count": 58,
   "id": "4b86b2cb",
   "metadata": {},
   "outputs": [
    {
     "name": "stdout",
     "output_type": "stream",
     "text": [
      "above10\n",
      "greater than 20\n"
     ]
    }
   ],
   "source": [
    "x=51\n",
    "if  x>10:\n",
    "    print(\"above10\")\n",
    "    if x>20:\n",
    "        print(\"greater than 20\")\n",
    "    else:\n",
    "        print(\"less than 20\")"
   ]
  },
  {
   "cell_type": "code",
   "execution_count": 59,
   "id": "468052c3",
   "metadata": {},
   "outputs": [
    {
     "name": "stdout",
     "output_type": "stream",
     "text": [
      "lal = apple\n",
      "lal = banana\n",
      "lal = grapes\n",
      "pila = apple\n",
      "pila = banana\n",
      "pila = grapes\n",
      "hara = apple\n",
      "hara = banana\n",
      "hara = grapes\n",
      "blue = apple\n",
      "blue = banana\n",
      "blue = grapes\n"
     ]
    }
   ],
   "source": [
    "c=['lal','pila','hara','blue']\n",
    "f=['apple','banana','grapes']\n",
    "for i in c:\n",
    "    for j in f:\n",
    "        print(i,'=',j)"
   ]
  },
  {
   "cell_type": "code",
   "execution_count": 62,
   "id": "076e4d05",
   "metadata": {},
   "outputs": [
    {
     "name": "stdout",
     "output_type": "stream",
     "text": [
      "22\n",
      "3\n",
      "180\n",
      "5.0\n"
     ]
    }
   ],
   "source": [
    "def jor(a,b):\n",
    "    return a+b\n",
    "def ghatao(a,b):\n",
    "    return a-b\n",
    "def guna(a,b):\n",
    "    return a*b\n",
    "def bhag(a,b):\n",
    "    return a/b\n",
    "print(jor(10,12))\n",
    "print(ghatao(15,12))\n",
    "print(guna(15,12))\n",
    "print(bhag(15,3))\n"
   ]
  },
  {
   "cell_type": "code",
   "execution_count": null,
   "id": "9211d185",
   "metadata": {},
   "outputs": [],
   "source": [
    "# csv\n"
   ]
  }
 ],
 "metadata": {
  "kernelspec": {
   "display_name": "Python 3 (ipykernel)",
   "language": "python",
   "name": "python3"
  },
  "language_info": {
   "codemirror_mode": {
    "name": "ipython",
    "version": 3
   },
   "file_extension": ".py",
   "mimetype": "text/x-python",
   "name": "python",
   "nbconvert_exporter": "python",
   "pygments_lexer": "ipython3",
   "version": "3.9.7"
  }
 },
 "nbformat": 4,
 "nbformat_minor": 5
}
