{
 "cells": [
  {
   "cell_type": "markdown",
   "id": "e2aab89a",
   "metadata": {},
   "source": [
    "# Assignment-1"
   ]
  },
  {
   "cell_type": "markdown",
   "id": "9e7c7c0a",
   "metadata": {},
   "source": [
    "1.Find PI to the Nth Digit - Enter a number and have the program generate PI up to that many decimal places. Keep a limit to how far the program will go."
   ]
  },
  {
   "cell_type": "code",
   "execution_count": 21,
   "id": "e1685643",
   "metadata": {},
   "outputs": [
    {
     "name": "stdout",
     "output_type": "stream",
     "text": [
      "enter the number?8\n"
     ]
    },
    {
     "data": {
      "text/plain": [
       "3.14159265"
      ]
     },
     "execution_count": 21,
     "metadata": {},
     "output_type": "execute_result"
    }
   ],
   "source": [
    "import math\n",
    "digits = int(input(\"enter the number?\"))\n",
    "\n",
    "def get_pi(n):\n",
    "        return round(math.pi,n)\n",
    "\n",
    "get_pi(digits)\n",
    "# 3.14159266"
   ]
  },
  {
   "cell_type": "markdown",
   "id": "ac6ded4a",
   "metadata": {},
   "source": [
    "2.\tFind e to the Nth Digit - Just like the previous problem, but with e instead of PI. Enter a number and have the program generate e up to that many decimal places. Keep a limit to how far the program will go.\n",
    "\n"
   ]
  },
  {
   "cell_type": "code",
   "execution_count": null,
   "id": "73747e2c",
   "metadata": {},
   "outputs": [],
   "source": [
    "\"\"\"\"Find e(euler's number) to the Nth Digit\"\"\"\n",
    "\n",
    "from math import e\n",
    "\n",
    "def euler_num(n):\n",
    "    return '%.*f' % (n, e) # n is number of decimal places to return\n",
    "\n",
    "if __name__ == '__main__':\n",
    "    test = False\n",
    "    while not test:\n",
    "        # ask until you get correct input\n",
    "        print('Precision must be between 1 and 100')\n",
    "        precision = int(input('Number of decimal places: '))\n",
    "        if 100 >= precision > 0:\n",
    "            test = True\n",
    "    print(euler_num(precision))\n"
   ]
  },
  {
   "cell_type": "markdown",
   "id": "0e0dfc85",
   "metadata": {},
   "source": [
    "3.\tFibonacci Sequence - Enter a number and have the program generate the Fibonacci sequence to that number or to the Nth number."
   ]
  },
  {
   "cell_type": "code",
   "execution_count": null,
   "id": "9c1a760d",
   "metadata": {},
   "outputs": [],
   "source": [
    "a,b,c=0,1,0\n",
    "try:\n",
    "    inp=int(input('Enter a number :'))\n",
    "    print('Fibonacci sequence')\n",
    "    while (c<inp):\n",
    "        print(a,end=' ')\n",
    "        cc=a+b\n",
    "        a=b            \n",
    "        b=cc\n",
    "        c=c+1\n",
    "except ValueError:\n",
    "    print('please enter valid Integer')\n",
    "finally:\n",
    "    print('done')\n",
    "        "
   ]
  },
  {
   "cell_type": "markdown",
   "id": "f3713fa5",
   "metadata": {},
   "source": [
    "4.\tPrime Factorization - Have the user enter a number and find all Prime Factors (if there are any) and display them."
   ]
  },
  {
   "cell_type": "code",
   "execution_count": null,
   "id": "5264ec19",
   "metadata": {},
   "outputs": [],
   "source": [
    "try :\n",
    "    n = int(input(\"Enter the number:\"))\n",
    "    \n",
    "    for i in range(2,n + 1):\n",
    "        if n % i == 0:\n",
    "            count = 1\n",
    "            for j in range(2,(i//2 + 1)):\n",
    "                if(i % j == 0):\n",
    "                    count = 0\n",
    "                    break\n",
    "            if(count == 1):\n",
    "                print(\"Factors are:\",i)\n",
    "except ValueError:\n",
    "    print('Please enter the valid input')\n",
    "\n",
    "    "
   ]
  },
  {
   "cell_type": "markdown",
   "id": "3d38559e",
   "metadata": {},
   "source": [
    "5.\tNext Prime Number - Have the program find prime numbers until the user chooses to stop asking for the next one."
   ]
  },
  {
   "cell_type": "code",
   "execution_count": 13,
   "id": "14c3e525",
   "metadata": {},
   "outputs": [
    {
     "name": "stdout",
     "output_type": "stream",
     "text": [
      "Press Enter to continue & Quit to stop\n",
      "2 \n",
      "3 \n",
      "5 \n",
      "7 \n",
      "11 quit\n"
     ]
    }
   ],
   "source": [
    "import math\n",
    "\n",
    "def is_prime(num):\n",
    "    if num < 2:\n",
    "        return False\n",
    "\n",
    "    for i in range(2, int(math.sqrt(num))+1):\n",
    "        if num % i == 0:\n",
    "            return False\n",
    "    return True\n",
    "\n",
    "\n",
    "def get_next_prime(num):\n",
    "    i = num + 1\n",
    "    while True:\n",
    "        if is_prime(i):\n",
    "            return i\n",
    "        i += 1\n",
    "\n",
    "\n",
    "print (\"Press Enter to continue & Quit to stop\")\n",
    "\n",
    "i = 2\n",
    "while True:\n",
    "    print (i,end=' ')\n",
    "    user_input = input()\n",
    "    c=user_input.lower()\n",
    "    if c == 'quit':  \n",
    "        break\n",
    "    i = get_next_prime(i)"
   ]
  },
  {
   "cell_type": "markdown",
   "id": "6091c7fe",
   "metadata": {},
   "source": [
    "6.\tFind Cost of Tile to Cover W x H Floor - Calculate the total cost of tile it would take to cover a floor plan of width and height, using a cost entered by the user."
   ]
  },
  {
   "cell_type": "code",
   "execution_count": 3,
   "id": "1b731695",
   "metadata": {},
   "outputs": [
    {
     "name": "stdout",
     "output_type": "stream",
     "text": [
      "Cost of Tile: fdfd\n",
      "Please enter valid input\n"
     ]
    }
   ],
   "source": [
    "try:\n",
    "    c=float(input(\"Cost of Tile: \"))\n",
    "    h=float(input(\"Height of tiles\"))\n",
    "    w=float(input(\"Width of tiles\"))\n",
    "    \n",
    "    total_cost= h*w*cost\n",
    "    print('the tiles height {0} and weidth {1} of the rate {2} Total cost is {3} ₹'.format(h,w,cost,total_cost))\n",
    "    \n",
    "except ValueError:\n",
    "    print(\"Please enter valid input\")\n",
    "\n",
    "\n",
    "\n",
    "\n",
    "\n"
   ]
  },
  {
   "cell_type": "markdown",
   "id": "bce2de48",
   "metadata": {},
   "source": [
    "7.\tMortgage Calculator - Calculate the monthly payments of a fixed term mortgage over given Nth terms at a given interest rate. Also figure out how long it will take the user to pay back the loan. For added complexity, add an option for users to select the compounding interval (Monthly, Weekly, Daily, Continually)."
   ]
  },
  {
   "cell_type": "code",
   "execution_count": 9,
   "id": "14d85fa2",
   "metadata": {},
   "outputs": [
    {
     "name": "stdout",
     "output_type": "stream",
     "text": [
      "Enter mortgage term (in months): 50000\n",
      "Enter interest rate: 5\n",
      "Enter loan value: 500000\n",
      "monthly payment for ₹ 500000.0 is 4166.666666666667 ₹/month mortgage rate at 5.0% interest rate is 2083.3333333333335\n",
      "Monthly payment for a $500000.00 4166.666666666667 year mortgage at 5.00% interest rate is: $2083.33\n"
     ]
    }
   ],
   "source": [
    "months = int(input(\"Enter mortgage term (in months): \"))\n",
    "rate = float(input(\"Enter interest rate: \"))\n",
    "loan = float(input(\"Enter loan value: \"))\n",
    "\n",
    "month=months/12\n",
    "monthly_rate = rate / 100 / 12\n",
    "payment = (monthly_rate / (1 - (1 + monthly_rate)**(-months))) * loan\n",
    "print(f'monthly payment for ₹ {loan} is {month} ₹/month mortgage rate at {rate}% interest rate is {payment}₹')"
   ]
  },
  {
   "cell_type": "markdown",
   "id": "3de1c55b",
   "metadata": {},
   "source": [
    "8.\tChange Return Program - The user enters a cost and then the amount of money given. The program will figure out the change and the number of quarters, dimes, nickels, pennies needed for the change."
   ]
  },
  {
   "cell_type": "code",
   "execution_count": 27,
   "id": "d1d26560",
   "metadata": {},
   "outputs": [
    {
     "name": "stdout",
     "output_type": "stream",
     "text": [
      "quarters: 0\n",
      "dimes: 0\n",
      "nickels: 0\n",
      "pennies: 0\n"
     ]
    }
   ],
   "source": [
    "cost=55000000.00\n",
    "money=6000000.45\n",
    "    #money is the money that is returned\n",
    "coins={'penny':0.01, 'nickel':0.05, 'dime':0.1,'quarter':0.25}\n",
    "num_quarters=0\n",
    "num_dimes=0\n",
    "num_nickels=0\n",
    "num_pennies=0\n",
    "change=money-cost\n",
    "if int(change) >= 1.0:\n",
    "    num_quarters+=int(change/coins['quarter'])\n",
    "    change-=num_quarters*0.25\n",
    "if round(change, 1) >=0.10:\n",
    "    num_dimes+=round(change,1)/coins['dime']\n",
    "    change-=num_dimes*0.1\n",
    "if round(change,2) <= 0.1 and round(change,2) >=0.05:\n",
    "    num_nickels+=round(change, 2)/coins['nickel']\n",
    "    change-=num_nickels*0.05\n",
    "if round(change,2) <=0.05 and round(change,2) >=0.01:\n",
    "    num_pennies+=round(change,2)/coins['penny']\n",
    "    change-=num_pennies*0.01\n",
    "print('quarters: ' + str(num_quarters))\n",
    "print('dimes: ' + str(num_dimes))\n",
    "print('nickels: '+ str(num_nickels))\n",
    "print('pennies: '+ str(num_pennies))\n",
    "    \n"
   ]
  },
  {
   "cell_type": "code",
   "execution_count": null,
   "id": "b57c19b8",
   "metadata": {},
   "outputs": [],
   "source": [
    "\"\"\"**Change Return Program** -\n",
    "he user enters a cost and then the amount of money given.\n",
    "The program will figure out the change and the number of\n",
    "quarters, dimes, nickels, pennies needed for the change.\"\"\"\n",
    "\n",
    "cost = float(input(\"Enter cost of item: \"))\n",
    "given = float(input(\"Enter amount given: \"))\n",
    "\n",
    "while given < cost:\n",
    "\tprint (\"You still owe ₹%.2f\" % (cost - given))\n",
    "\tgiven = float(input(\"Enter amount given: \"))\n",
    "\n",
    "tw,te,f,o,q,d,n,p = 0,0,0,0,0,0,0,0\n",
    "dollars = int(given - cost)\n",
    "change = (given - dollars - cost) * 100 #because floating point math sucks\n",
    "\n",
    "if dollars >= 20:\n",
    "\ttw = int(dollars / 20)\n",
    "\tdollars = dollars % 20\n",
    "\n",
    "if dollars >= 10:\n",
    "\tte = int(dollars / 10)\n",
    "\tdollars = dollars % 10\n",
    "\n",
    "if dollars >= 5:\n",
    "\tf = int(dollars / 5)\n",
    "\tdollars = dollars % 5\n",
    "\n",
    "if dollars >= 1:\n",
    "\to = dollars\n",
    "\n",
    "if change >= 25:\n",
    "\tq = int(change / 25)\n",
    "\tchange = change % 25\n",
    "\n",
    "if change >= 10:\n",
    "\td = int(change / 10)\n",
    "\tchange = change % 10\n",
    "\n",
    "if change >= 5:\n",
    "\tn = int(change / 5)\n",
    "\tchange = change % 5\n",
    "\n",
    "if change >= 1:\n",
    "\tp = change\n",
    "\n",
    "print (\"Your change is $%.2f: \\n \\\n",
    "%.0f twenties \\n \\\n",
    "%.0f tens \\n \\\n",
    "%.0f fives \\n \\\n",
    "%.0f ones \\n \\\n",
    "%.0f quarters \\n \\\n",
    "%.0f dimes \\n \\\n",
    "%.0f nickels \\n \\\n",
    "%.0f pennies\" % (given - cost, tw, te, f, o, q, d, n, p))"
   ]
  },
  {
   "cell_type": "code",
   "execution_count": null,
   "id": "a9f7df38",
   "metadata": {},
   "outputs": [],
   "source": [
    "# 23.\tCollatz Conjecture - Start with a number n > 1. Find the number of steps it takes to reach one using the following process: If n is even, divide it by 2. If n is odd, multiply it by 3 and add 1."
   ]
  },
  {
   "cell_type": "code",
   "execution_count": null,
   "id": "cd82eca5",
   "metadata": {},
   "outputs": [],
   "source": [
    "# n>1\n",
    "#if n is -->even divided by 2\n",
    "# if n is --> odd multiply it by 3 and add 1\n",
    "def collatz_fun(inp,count=0):\n",
    "    if inp<=1:\n",
    "        return count\n",
    "    if inp%2==0:\n",
    "        return collatz_fun(inp/2,count+1)\n",
    "    else:\n",
    "        return collatz_fun(inp*3+1,count+1)\n",
    "\n",
    "inp=int(input(\"Enter the number :\"))\n",
    "\n",
    "collatz_fun(inp)\n"
   ]
  },
  {
   "cell_type": "code",
   "execution_count": null,
   "id": "ed9354f4",
   "metadata": {},
   "outputs": [],
   "source": [
    "inp = int(input(\"Enter the number:\"))\n",
    "steps = 0\n",
    "while inp != 1:\n",
    "    if inp% 2 == 0:\n",
    "        inp = inp/2\n",
    "        steps = steps + 1\n",
    "    else:\n",
    "        inp = 3*inp + 1\n",
    "        steps = steps + 1\n",
    "    \n",
    "print('Steps:' + str(steps))"
   ]
  },
  {
   "cell_type": "code",
   "execution_count": null,
   "id": "0b49e99d",
   "metadata": {},
   "outputs": [],
   "source": [
    "# 24.\tSorting - Implement two types of sorting algorithms: Merge sort and bubble sort."
   ]
  },
  {
   "cell_type": "code",
   "execution_count": null,
   "id": "877a131b",
   "metadata": {},
   "outputs": [],
   "source": []
  }
 ],
 "metadata": {
  "kernelspec": {
   "display_name": "Python 3 (ipykernel)",
   "language": "python",
   "name": "python3"
  },
  "language_info": {
   "codemirror_mode": {
    "name": "ipython",
    "version": 3
   },
   "file_extension": ".py",
   "mimetype": "text/x-python",
   "name": "python",
   "nbconvert_exporter": "python",
   "pygments_lexer": "ipython3",
   "version": "3.9.7"
  }
 },
 "nbformat": 4,
 "nbformat_minor": 5
}
