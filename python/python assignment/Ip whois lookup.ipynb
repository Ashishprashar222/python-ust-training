{
 "cells": [
  {
   "cell_type": "code",
   "execution_count": null,
   "id": "92ae3b10",
   "metadata": {},
   "outputs": [],
   "source": [
    "# Install ipwhois\n",
    "# pip install ipwhois"
   ]
  },
  {
   "cell_type": "markdown",
   "id": "37e1641c",
   "metadata": {},
   "source": [
    "50.\tWhois Search Tool - Enter an IP or host address and have it look it up through whois and return the results to you."
   ]
  },
  {
   "cell_type": "code",
   "execution_count": null,
   "id": "48325850",
   "metadata": {},
   "outputs": [],
   "source": [
    "from ipwhois import IPWhois\n",
    "obj=IPWhois('74.125.225.229')#enter your ip address\n",
    "\n",
    "# 192.168.0.105\n",
    "res= obj.lookup_whois()\n",
    "print(res)"
   ]
  },
  {
   "cell_type": "code",
   "execution_count": 2,
   "id": "4c74c79e",
   "metadata": {},
   "outputs": [],
   "source": [
    "\n"
   ]
  },
  {
   "cell_type": "code",
   "execution_count": null,
   "id": "d2a00f1b",
   "metadata": {},
   "outputs": [],
   "source": []
  },
  {
   "cell_type": "code",
   "execution_count": null,
   "id": "16dd45f5",
   "metadata": {},
   "outputs": [],
   "source": [
    "s = socket.socket()\n",
    "print(\"socket created\")\n",
    "s.bind(('localhost',9999))\n",
    "s.listen(3) \n",
    "print(\"waiting for connections\")\n",
    "while True:\n",
    "    c, addr = s.accept() #it returns for address and client socket\n",
    "    name=c.recv(1024).decode()\n",
    "    print(\"connected with client\", 127.0.0.1,52522)\n",
    "    c.send(bytes(\"welcome to python socket\",'utf-8')) \n",
    "    c.close()\n"
   ]
  },
  {
   "cell_type": "code",
   "execution_count": null,
   "id": "91d970af",
   "metadata": {},
   "outputs": [],
   "source": [
    "s = socket.socket()\n",
    "print(\"socket created\")\n",
    "s.bind(('localhost',9999))\n",
    "s.listen(3) \n",
    "print(\"waiting for connections\")\n",
    "while True:\n",
    "    c, addr = s.accept() #it returns for address and client socket\n",
    "    name=c.recv(1024).decode()\n",
    "    print(\"connected with client\", 127.0.0.1,52523)\n",
    "    c.send(bytes(\"welcome to python socket\",'utf-8')) \n",
    "    c.close()\n"
   ]
  },
  {
   "cell_type": "code",
   "execution_count": null,
   "id": "0d2b87c2",
   "metadata": {},
   "outputs": [],
   "source": [
    "import socket\n",
    "c=socket.socket() \n",
    "c.connect(('localhost',9999))\n",
    "name=input(\"enter your name \")\n",
    "c.send(bytes(name,'utf-8'))\n",
    "print(c.recv(1024).decode())\n"
   ]
  },
  {
   "cell_type": "code",
   "execution_count": null,
   "id": "63ba1fe1",
   "metadata": {},
   "outputs": [],
   "source": []
  }
 ],
 "metadata": {
  "kernelspec": {
   "display_name": "Python 3 (ipykernel)",
   "language": "python",
   "name": "python3"
  },
  "language_info": {
   "codemirror_mode": {
    "name": "ipython",
    "version": 3
   },
   "file_extension": ".py",
   "mimetype": "text/x-python",
   "name": "python",
   "nbconvert_exporter": "python",
   "pygments_lexer": "ipython3",
   "version": "3.9.7"
  }
 },
 "nbformat": 4,
 "nbformat_minor": 5
}
