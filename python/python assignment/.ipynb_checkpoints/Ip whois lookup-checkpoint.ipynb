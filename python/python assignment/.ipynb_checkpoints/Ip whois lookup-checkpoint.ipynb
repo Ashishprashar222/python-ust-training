{
 "cells": [
  {
   "cell_type": "code",
   "execution_count": null,
   "id": "92ae3b10",
   "metadata": {},
   "outputs": [],
   "source": [
    "# Install ipwhois\n",
    "# pip install ipwhois"
   ]
  },
  {
   "cell_type": "markdown",
   "id": "37e1641c",
   "metadata": {},
   "source": [
    "50.\tWhois Search Tool - Enter an IP or host address and have it look it up through whois and return the results to you."
   ]
  },
  {
   "cell_type": "code",
   "execution_count": null,
   "id": "48325850",
   "metadata": {},
   "outputs": [],
   "source": [
    "from ipwhois import IPWhois\n",
    "obj=IPWhois('74.125.225.229')#enter your ip address\n",
    "\n",
    "# 192.168.0.105\n",
    "res= obj.lookup_whois()\n",
    "print(res)"
   ]
  },
  {
   "cell_type": "code",
   "execution_count": null,
   "id": "4c74c79e",
   "metadata": {},
   "outputs": [],
   "source": [
    "import socket\n"
   ]
  },
  {
   "cell_type": "code",
   "execution_count": null,
   "id": "a89266c0",
   "metadata": {},
   "outputs": [
    {
     "name": "stdout",
     "output_type": "stream",
     "text": [
      "socket created <socket.socket fd=720, family=AddressFamily.AF_INET, type=SocketKind.SOCK_STREAM, proto=0>\n",
      "waiting for connection\n"
     ]
    }
   ],
   "source": [
    "s=socket.socket()\n",
    "print(\"socket created\",s)\n",
    "s.bind(('localhost',9999))\n",
    "# s.bind(socket.gethostname(),9999)\n",
    "s.listen(3)\n",
    "print(\"waiting for connection\")\n",
    "while True:\n",
    "    c,addr=s.accept()\n",
    "    name=c.recv(1024).decode()\n",
    "    print(\"Connected with client\",addr,name)\n",
    "    c.send(bytes('welcome to python socket','UTF-8'))\n",
    "    print(\"Done\")\n",
    "    c.close()\n",
    "    "
   ]
  },
  {
   "cell_type": "code",
   "execution_count": null,
   "id": "7377ba4e",
   "metadata": {},
   "outputs": [],
   "source": [
    "s = socket.socket()\n",
    "print(\"socket created\")\n",
    "s.bind(('localhost',9999))\n",
    "s.listen(3) \n",
    "print(\"waiting for connections\")\n",
    "while True:\n",
    "    c, addr = s.accept() #it returns for address and client socket\n",
    "    name=c.recv(1024).decode()\n",
    "    print(\"connected with client\", 127.0.0.1,52522)\n",
    "    c.send(bytes(\"welcome to python socket\",'utf-8')) \n",
    "    c.close()\n"
   ]
  },
  {
   "cell_type": "code",
   "execution_count": null,
   "id": "c636b49e",
   "metadata": {},
   "outputs": [],
   "source": [
    "s = socket.socket()\n",
    "print(\"socket created\")\n",
    "s.bind(('localhost',9999))\n",
    "s.listen(3) \n",
    "print(\"waiting for connections\")\n",
    "while True:\n",
    "    c, addr = s.accept() #it returns for address and client socket\n",
    "    name=c.recv(1024).decode()\n",
    "    print(\"connected with client\", 127.0.0.1,52523)\n",
    "    c.send(bytes(\"welcome to python socket\",'utf-8')) \n",
    "    c.close()\n"
   ]
  },
  {
   "cell_type": "code",
   "execution_count": 2,
   "id": "0c03d3e5",
   "metadata": {},
   "outputs": [
    {
     "ename": "ConnectionRefusedError",
     "evalue": "[WinError 10061] No connection could be made because the target machine actively refused it",
     "output_type": "error",
     "traceback": [
      "\u001b[1;31m---------------------------------------------------------------------------\u001b[0m",
      "\u001b[1;31mConnectionRefusedError\u001b[0m                    Traceback (most recent call last)",
      "\u001b[1;32m~\\AppData\\Local\\Temp/ipykernel_4440/2927623109.py\u001b[0m in \u001b[0;36m<module>\u001b[1;34m\u001b[0m\n\u001b[0;32m      1\u001b[0m \u001b[1;32mimport\u001b[0m \u001b[0msocket\u001b[0m\u001b[1;33m\u001b[0m\u001b[1;33m\u001b[0m\u001b[0m\n\u001b[0;32m      2\u001b[0m \u001b[0mc\u001b[0m\u001b[1;33m=\u001b[0m\u001b[0msocket\u001b[0m\u001b[1;33m.\u001b[0m\u001b[0msocket\u001b[0m\u001b[1;33m(\u001b[0m\u001b[1;33m)\u001b[0m\u001b[1;33m\u001b[0m\u001b[1;33m\u001b[0m\u001b[0m\n\u001b[1;32m----> 3\u001b[1;33m \u001b[0mc\u001b[0m\u001b[1;33m.\u001b[0m\u001b[0mconnect\u001b[0m\u001b[1;33m(\u001b[0m\u001b[1;33m(\u001b[0m\u001b[1;34m'localhost'\u001b[0m\u001b[1;33m,\u001b[0m\u001b[1;36m9999\u001b[0m\u001b[1;33m)\u001b[0m\u001b[1;33m)\u001b[0m\u001b[1;33m\u001b[0m\u001b[1;33m\u001b[0m\u001b[0m\n\u001b[0m\u001b[0;32m      4\u001b[0m \u001b[0mname\u001b[0m\u001b[1;33m=\u001b[0m\u001b[0minput\u001b[0m\u001b[1;33m(\u001b[0m\u001b[1;34m\"enter your name \"\u001b[0m\u001b[1;33m)\u001b[0m\u001b[1;33m\u001b[0m\u001b[1;33m\u001b[0m\u001b[0m\n\u001b[0;32m      5\u001b[0m \u001b[0mc\u001b[0m\u001b[1;33m.\u001b[0m\u001b[0msend\u001b[0m\u001b[1;33m(\u001b[0m\u001b[0mbytes\u001b[0m\u001b[1;33m(\u001b[0m\u001b[0mname\u001b[0m\u001b[1;33m,\u001b[0m\u001b[1;34m'utf-8'\u001b[0m\u001b[1;33m)\u001b[0m\u001b[1;33m)\u001b[0m\u001b[1;33m\u001b[0m\u001b[1;33m\u001b[0m\u001b[0m\n",
      "\u001b[1;31mConnectionRefusedError\u001b[0m: [WinError 10061] No connection could be made because the target machine actively refused it"
     ]
    }
   ],
   "source": [
    "import socket\n",
    "c=socket.socket() \n",
    "c.connect(('localhost',9999))\n",
    "name=input(\"enter your name \")\n",
    "c.send(bytes(name,'utf-8'))\n",
    "print(c.recv(1024).decode())\n"
   ]
  },
  {
   "cell_type": "code",
   "execution_count": null,
   "id": "2387ff13",
   "metadata": {},
   "outputs": [],
   "source": []
  }
 ],
 "metadata": {
  "kernelspec": {
   "display_name": "Python 3 (ipykernel)",
   "language": "python",
   "name": "python3"
  },
  "language_info": {
   "codemirror_mode": {
    "name": "ipython",
    "version": 3
   },
   "file_extension": ".py",
   "mimetype": "text/x-python",
   "name": "python",
   "nbconvert_exporter": "python",
   "pygments_lexer": "ipython3",
   "version": "3.9.7"
  }
 },
 "nbformat": 4,
 "nbformat_minor": 5
}
