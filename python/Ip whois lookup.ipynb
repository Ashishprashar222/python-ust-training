{
 "cells": [
  {
   "cell_type": "code",
   "execution_count": 2,
   "id": "92ae3b10",
   "metadata": {},
   "outputs": [
    {
     "name": "stdout",
     "output_type": "stream",
     "text": [
      "Collecting ipwhoisNote: you may need to restart the kernel to use updated packages.\n",
      "  Downloading ipwhois-1.2.0-py2.py3-none-any.whl (73 kB)\n",
      "Collecting dnspython<=2.0.0\n",
      "  Downloading dnspython-2.0.0-py3-none-any.whl (208 kB)\n",
      "Installing collected packages: dnspython, ipwhois\n",
      "Successfully installed dnspython-2.0.0 ipwhois-1.2.0\n",
      "\n"
     ]
    }
   ],
   "source": [
    "# Install ipwhois\n",
    "# pip install ipwhois"
   ]
  },
  {
   "cell_type": "markdown",
   "id": "37e1641c",
   "metadata": {},
   "source": [
    "50.\tWhois Search Tool - Enter an IP or host address and have it look it up through whois and return the results to you."
   ]
  },
  {
   "cell_type": "code",
   "execution_count": 5,
   "id": "48325850",
   "metadata": {},
   "outputs": [
    {
     "name": "stdout",
     "output_type": "stream",
     "text": [
      "{'nir': None, 'asn_registry': 'arin', 'asn': '15169', 'asn_cidr': '74.125.225.0/24', 'asn_country_code': 'US', 'asn_date': '2007-03-13', 'asn_description': 'GOOGLE, US', 'query': '74.125.225.229', 'nets': [{'cidr': '74.125.0.0/16', 'name': 'GOOGLE', 'handle': 'NET-74-125-0-0-1', 'range': '74.125.0.0 - 74.125.255.255', 'description': 'Google LLC', 'country': 'US', 'state': 'CA', 'city': 'Mountain View', 'address': '1600 Amphitheatre Parkway', 'postal_code': '94043', 'emails': ['network-abuse@google.com', 'arin-contact@google.com'], 'created': '2007-03-13', 'updated': '2012-02-24'}], 'raw': None, 'referral': None, 'raw_referral': None}\n"
     ]
    }
   ],
   "source": [
    "from ipwhois import IPWhois\n",
    "obj=IPWhois('74.125.225.229')#enter your ip address\n",
    "\n",
    "# 192.168.0.105\n",
    "res= obj.lookup_whois()\n",
    "print(res)"
   ]
  },
  {
   "cell_type": "code",
   "execution_count": null,
   "id": "4c74c79e",
   "metadata": {},
   "outputs": [],
   "source": []
  }
 ],
 "metadata": {
  "kernelspec": {
   "display_name": "Python 3 (ipykernel)",
   "language": "python",
   "name": "python3"
  },
  "language_info": {
   "codemirror_mode": {
    "name": "ipython",
    "version": 3
   },
   "file_extension": ".py",
   "mimetype": "text/x-python",
   "name": "python",
   "nbconvert_exporter": "python",
   "pygments_lexer": "ipython3",
   "version": "3.9.7"
  }
 },
 "nbformat": 4,
 "nbformat_minor": 5
}
