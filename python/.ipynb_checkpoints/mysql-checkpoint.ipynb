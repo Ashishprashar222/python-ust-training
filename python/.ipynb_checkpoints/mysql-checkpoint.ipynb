{
 "cells": [
  {
   "cell_type": "code",
   "execution_count": null,
   "id": "e38617ca",
   "metadata": {},
   "outputs": [],
   "source": [
    "# pip install mysql-connector-python"
   ]
  },
  {
   "cell_type": "code",
   "execution_count": null,
   "id": "16aa30b3",
   "metadata": {},
   "outputs": [],
   "source": [
    "# connection to database\n",
    "import mysql.connector  #To create a connection between the MySQL database and the python application, the connect() method of mysql.connector module is used.\n",
    "mydb=mysql.connector.connect(host=\"localhost\",user=\"root\",passwd=\"root\",database=\"pythondb\",auth_plugin='mysql_native_password')\n",
    "print(mydb)"
   ]
  },
  {
   "cell_type": "code",
   "execution_count": 7,
   "id": "8cb5a27c",
   "metadata": {},
   "outputs": [
    {
     "name": "stdout",
     "output_type": "stream",
     "text": [
      "('ash',)\n",
      "('ashish',)\n",
      "('classicmodels',)\n",
      "('information_schema',)\n",
      "('myblog',)\n",
      "('mysql',)\n",
      "('mysqlsampledatabase',)\n",
      "('performance_schema',)\n",
      "('pythondb',)\n",
      "('realestate',)\n",
      "('sakila',)\n",
      "('sys',)\n",
      "('ust',)\n",
      "('world',)\n"
     ]
    }
   ],
   "source": [
    "import mysql.connector \n",
    "conn=mysql.connector.connect(host=\"localhost\",user=\"root\",passwd=\"root\",database=\"pythondb\",auth_plugin='mysql_native_password')\n",
    "cur=conn.cursor()             #cursor is like a pointer\n",
    "try:  \n",
    "    dbs = cur.execute(\"show databases\")  \n",
    "except:  \n",
    "    conn.rollback()  \n",
    "for x in cur:  \n",
    "    print(x)  \n",
    "conn.close()"
   ]
  },
  {
   "cell_type": "code",
   "execution_count": null,
   "id": "12b412d7",
   "metadata": {},
   "outputs": [],
   "source": [
    "#connect to data base and create database \n",
    "import mysql.connector\n",
    "conn=mysql.connector.connect(host=\"localhost\",user=\"root\",passwd=\"root\")\n",
    "cur=conn.cursor()\n",
    "cur.execute(\"create database ust\")           #database created\n",
    "dbs = cur.execute(\"show databases\")                 #show db\n",
    "for x in cur:  \n",
    "    print(x)  "
   ]
  },
  {
   "cell_type": "code",
   "execution_count": null,
   "id": "092d86c5",
   "metadata": {},
   "outputs": [],
   "source": [
    "import mysql.connector\n",
    "conn=mysql.connector.connect(host=\"localhost\",user=\"root\",passwd=\"root\",database=\"ust\")\n",
    "cur=conn.cursor()\n",
    "cur.execute(\"create table Employee(Name varchar(20) , Id int(10)  primary key,salary float ,Dept_id int)\")\n",
    "conn.rollback()\n",
    "conn.close()\n"
   ]
  },
  {
   "cell_type": "code",
   "execution_count": null,
   "id": "e6eb6ce3",
   "metadata": {},
   "outputs": [],
   "source": []
  },
  {
   "cell_type": "code",
   "execution_count": null,
   "id": "776b8499",
   "metadata": {},
   "outputs": [],
   "source": [
    "import mysql.connector\n",
    "conn=mysql.connector.connect(host=\"localhost\",user=\"root\",passwd=\"root\",database=\"ust\")\n",
    "cur=conn.cursor()\n",
    "try:\n",
    "    cur.execute(\"alter table employee add branch_name varchar(20) not null\")\n",
    "except:\n",
    "    conn.rollback()\n",
    "conn.close()"
   ]
  },
  {
   "cell_type": "code",
   "execution_count": null,
   "id": "64d39ec1",
   "metadata": {},
   "outputs": [],
   "source": [
    "import mysql.connector  \n",
    "#Create the connection object   \n",
    "conn = mysql.connector.connect(host = \"localhost\", user = \"root\",passwd = \"root\",database = \"ust\")  \n",
    "#creating the cursor object  \n",
    "cur = conn.cursor()  \n",
    "sql = \"insert into Employee(name, id, salary, dept_id, branch_name) values (%s, %s, %s, %s, %s)\"  \n",
    "  \n",
    "#The row values are provided in the form of tuple   \n",
    "# val = (\"Ashish\", 111, 35000.00, 202, \"India\") \n",
    "val = (\"Anuj\", 110, 35000.00, 285, \"pak\") \n",
    "  \n",
    "try:  \n",
    "    #inserting the values into the table  \n",
    "    cur.execute(sql,val)  \n",
    "  \n",
    "    #commit the transaction   \n",
    "    conn.commit()  \n",
    "      \n",
    "except:  \n",
    "    conn.rollback()  \n",
    "  \n",
    "print(cur.rowcount,\"record inserted!\")  \n",
    "conn.close() "
   ]
  },
  {
   "cell_type": "code",
   "execution_count": 4,
   "id": "803500b7",
   "metadata": {},
   "outputs": [
    {
     "name": "stdout",
     "output_type": "stream",
     "text": [
      "3 records inserted!\n"
     ]
    }
   ],
   "source": [
    "import mysql.connector  \n",
    "      \n",
    "#Create the connection object   \n",
    "conn = mysql.connector.connect(host = \"localhost\", user = \"root\",passwd = \"root\",database = \"ust\")  \n",
    "  \n",
    "#creating the cursor object  \n",
    "cur = conn.cursor()  \n",
    "sql = \"insert into Employee(name, id, salary, dept_id, branch_name) values (%s, %s, %s, %s, %s)\"  \n",
    "val = [(\"puja\", 201, 25000.00, 203, \"Newyork\"),(\"umrah\",202,25000.00,204,\"Port of spain\"),(\"rajesh\",203,90000.00,205,\"Newyork\")]  \n",
    "      \n",
    "try:  \n",
    "    #inserting the values into the table  \n",
    "    cur.executemany(sql,val)  \n",
    "  \n",
    "    #commit the transaction   \n",
    "    conn.commit()  \n",
    "    print(cur.rowcount,\"records inserted!\")  \n",
    "      \n",
    "except:  \n",
    "    conn.rollback()  \n",
    "  \n",
    "conn.close()  "
   ]
  },
  {
   "cell_type": "code",
   "execution_count": 5,
   "id": "e2cccd9e",
   "metadata": {},
   "outputs": [
    {
     "name": "stdout",
     "output_type": "stream",
     "text": [
      "('John D', 103, 25000.0, 203, 'Newyork')\n",
      "('David', 104, 25000.0, 204, 'Port of spain')\n",
      "('Nick', 105, 90000.0, 205, 'Newyork')\n",
      "('Atul', 110, 35000.0, 285, 'pak')\n",
      "('puja', 201, 25000.0, 203, 'Newyork')\n",
      "('umrah', 202, 25000.0, 204, 'Port of spain')\n",
      "('rajesh', 203, 90000.0, 205, 'Newyork')\n"
     ]
    }
   ],
   "source": [
    "import mysql.connector  \n",
    "  \n",
    "#Create the connection object   \n",
    "conn = mysql.connector.connect(host = \"localhost\", user = \"root\",passwd = \"root\",database = \"ust\")  \n",
    "  \n",
    "#creating the cursor object  \n",
    "cur = conn.cursor()  \n",
    "  \n",
    "try:  \n",
    "    #Reading the Employee data      \n",
    "    cur.execute(\"select * from Employee\")  \n",
    "  \n",
    "    #fetching the rows from the cursor object  \n",
    "    result = cur.fetchall()  \n",
    "    #printing the result  \n",
    "      \n",
    "    for x in result:  \n",
    "        print(x)\n",
    "except:  \n",
    "    conn.rollback()  \n",
    "  \n",
    "conn.close() "
   ]
  },
  {
   "cell_type": "code",
   "execution_count": 6,
   "id": "d3f60eb6",
   "metadata": {},
   "outputs": [
    {
     "name": "stdout",
     "output_type": "stream",
     "text": [
      "(103, 'John D', 25000.0)\n",
      "(104, 'David', 25000.0)\n",
      "(105, 'Nick', 90000.0)\n",
      "(110, 'Atul', 35000.0)\n",
      "(201, 'puja', 25000.0)\n",
      "(202, 'umrah', 25000.0)\n",
      "(203, 'rajesh', 90000.0)\n"
     ]
    }
   ],
   "source": [
    "import mysql.connector  \n",
    "#Create the connection object   \n",
    "conn= mysql.connector.connect(host = \"localhost\", user = \"root\",passwd = \"root\",database = \"ust\")  \n",
    "#creating the cursor object  \n",
    "cur = conn.cursor()  \n",
    "try:  \n",
    "    #Reading the Employee data      \n",
    "    cur.execute(\"select id, name, salary from Employee\")  \n",
    "  \n",
    "    #fetching the rows from the cursor object  \n",
    "    result = cur.fetchall()  \n",
    "    #printing the result  \n",
    "    for x in result:  \n",
    "        print(x);  \n",
    "except:  \n",
    "    conn.rollback()  \n",
    "conn.close()  "
   ]
  },
  {
   "cell_type": "code",
   "execution_count": 8,
   "id": "f8d30ae9",
   "metadata": {},
   "outputs": [
    {
     "name": "stdout",
     "output_type": "stream",
     "text": [
      "('John D', 103, 25000.0)\n",
      "('David', 104, 25000.0)\n"
     ]
    }
   ],
   "source": [
    "import mysql.connector  \n",
    "  \n",
    "#Create the connection object   \n",
    "conn = mysql.connector.connect(host = \"localhost\", user = \"root\",passwd = \"root\",database = \"ust\")  \n",
    "  \n",
    "#creating the cursor object  \n",
    "cur = conn.cursor()  \n",
    "  \n",
    "try:  \n",
    "    #Reading the Employee data      \n",
    "    cur.execute(\"select name, id, salary from Employee\")  \n",
    "  \n",
    "    #fetching the first row from the cursor object  \n",
    "    result = cur.fetchone()  \n",
    "    result1 = cur.fetchone()  \n",
    "  \n",
    "    #printing the result  \n",
    "    print(result)  \n",
    "    print(result1)  \n",
    "  \n",
    "except:  \n",
    "    conn.rollback()  \n",
    "      \n",
    "conn.close()  "
   ]
  },
  {
   "cell_type": "code",
   "execution_count": 9,
   "id": "f73df2b6",
   "metadata": {},
   "outputs": [
    {
     "name": "stdout",
     "output_type": "stream",
     "text": [
      "Name          id          Salary\n",
      "John D          103          25000\n",
      "David          104          25000\n",
      "Nick          105          90000\n",
      "Atul          110          35000\n",
      "puja          201          25000\n",
      "umrah          202          25000\n",
      "rajesh          203          90000\n"
     ]
    }
   ],
   "source": [
    "import mysql.connector  \n",
    "  \n",
    "#Create the connection object   \n",
    "conn = mysql.connector.connect(host = \"localhost\", user = \"root\",passwd = \"root\",database = \"ust\")  \n",
    "  \n",
    "#creating the cursor object  \n",
    "cur = conn.cursor()  \n",
    "  \n",
    "try:  \n",
    "  \n",
    "    #Reading the Employee data      \n",
    "    cur.execute(\"select name, id, salary from Employee\")  \n",
    "  \n",
    "    #fetching the rows from the cursor object  \n",
    "    result = cur.fetchall()  \n",
    "  \n",
    "    print(\"Name          id          Salary\");  \n",
    "    for row in result:  \n",
    "        print(\"%s          %d          %d\"%(row[0],row[1],row[2]))  \n",
    "except:  \n",
    "    conn.rollback()  \n",
    "  \n",
    "conn.close()  "
   ]
  },
  {
   "cell_type": "code",
   "execution_count": 10,
   "id": "df18ff83",
   "metadata": {},
   "outputs": [
    {
     "name": "stdout",
     "output_type": "stream",
     "text": [
      "Name      id    Salary\n",
      "John D     103    25000\n"
     ]
    }
   ],
   "source": [
    "import mysql.connector  \n",
    "  \n",
    "#Create the connection object   \n",
    "conn = mysql.connector.connect(host = \"localhost\", user = \"root\",passwd = \"root\",database = \"ust\")  \n",
    "  \n",
    "#creating the cursor object  \n",
    "cur =conn.cursor()  \n",
    "  \n",
    "try:  \n",
    "    #Reading the Employee data      \n",
    "    cur.execute(\"select name, id, salary from Employee where name like 'J%' \")  \n",
    "  \n",
    "    #fetching the rows from the cursor object  \n",
    "    result = cur.fetchall()  \n",
    "  \n",
    "    print(\"Name      id    Salary\");  \n",
    "  \n",
    "    for row in result:  \n",
    "        print(\"%s     %d    %d\"%(row[0],row[1],row[2]))  \n",
    "except:  \n",
    "   conn.rollback()  \n",
    "  \n",
    "conn.close() "
   ]
  },
  {
   "cell_type": "code",
   "execution_count": 11,
   "id": "c96ca4e1",
   "metadata": {},
   "outputs": [
    {
     "name": "stdout",
     "output_type": "stream",
     "text": [
      "Name    id    Salary\n",
      "John D    103    25000\n",
      "Nick    105    90000\n",
      "Atul    110    35000\n"
     ]
    }
   ],
   "source": [
    "import mysql.connector  \n",
    "  \n",
    "#Create the connection object   \n",
    "conn = mysql.connector.connect(host = \"localhost\", user = \"root\",passwd = \"root\",database = \"ust\")  \n",
    "  \n",
    "#creating the cursor object  \n",
    "cur =conn.cursor()  \n",
    "try:  \n",
    "    #Reading the Employee data      \n",
    "    cur.execute(\"select name, id, salary from Employee where id in (110,105,103)\")  \n",
    "  \n",
    "    #fetching the rows from the cursor object  \n",
    "    result = cur.fetchall()  \n",
    "  \n",
    "    print(\"Name    id    Salary\");  \n",
    "  \n",
    "    for row in result:  \n",
    "        print(\"%s    %d    %d\"%(row[0],row[1],row[2]))  \n",
    "except:  \n",
    "    conn.rollback()  \n",
    "      \n",
    "conn.close() "
   ]
  },
  {
   "cell_type": "code",
   "execution_count": 12,
   "id": "d1bcd740",
   "metadata": {},
   "outputs": [
    {
     "name": "stdout",
     "output_type": "stream",
     "text": [
      "name      id     salary\n",
      "umrah   202    25000\n",
      "rajesh   203    90000\n",
      "puja   201    25000\n",
      "Nick   105    90000\n",
      "John D   103    25000\n",
      "David   104    25000\n",
      "Atul   110    35000\n"
     ]
    }
   ],
   "source": [
    "import mysql.connector  \n",
    "  \n",
    "#Create the connection object   \n",
    "conn = mysql.connector.connect(host = \"localhost\", user = \"root\",passwd = \"root\",database = \"ust\")  \n",
    "  \n",
    "#creating the cursor object  \n",
    "cur =conn.cursor()  \n",
    "\n",
    "try:\n",
    "    '''cur.execute(\"select id,name,salary from employee order by name\")\n",
    "    result= cur.fetchall()'''\n",
    "\n",
    "    cur.execute(\"select name, id, salary from employee order by name desc\")\n",
    "    result= cur.fetchall()\n",
    "\n",
    "    print(\"name      id     salary\")\n",
    "    for row in result:\n",
    "        print(\"%s   %d    %d\"%(row[0], row[1], row[2]))\n",
    "except:\n",
    "    conn.rollback()\n",
    "conn.close()\n"
   ]
  },
  {
   "cell_type": "code",
   "execution_count": 13,
   "id": "dbc2d169",
   "metadata": {},
   "outputs": [
    {
     "name": "stdout",
     "output_type": "stream",
     "text": [
      "('John D', 103, 25000.0, 203, 'Newyork')\n",
      "('David', 104, 25000.0, 204, 'Port of spain')\n",
      "('akash', 110, 35000.0, 285, 'pak')\n",
      "('puja', 201, 25000.0, 203, 'Newyork')\n",
      "('umrah', 202, 25000.0, 204, 'Port of spain')\n",
      "('rajesh', 203, 90000.0, 205, 'Newyork')\n"
     ]
    }
   ],
   "source": [
    "import mysql.connector  \n",
    "  \n",
    "#Create the connection object   \n",
    "conn = mysql.connector.connect(host = \"localhost\", user = \"root\",passwd = \"root\",database = \"ust\")  \n",
    "  \n",
    "#creating the cursor object  \n",
    "cur =conn.cursor()  \n",
    "\n",
    "try:  \n",
    "    #updating the name of the employee whose id is 110  \n",
    "    cur.execute(\"update Employee set name = 'akash' where id = 110\")  \n",
    "    conn.commit()  \n",
    "\n",
    "\n",
    "    cur.execute(\"delete from Employee where id = 105\")            # Delete employee details whose id is 105 \n",
    "    conn.commit() \n",
    "\n",
    "\n",
    "    b=cur.execute(\"select * from employee\")          #read data from table\n",
    "    result=cur.fetchall()\n",
    "    for x in result:\n",
    "        print(x)\n",
    "except:  \n",
    "      \n",
    "    conn.rollback()  \n",
    "  \n",
    "conn.close()  "
   ]
  },
  {
   "cell_type": "code",
   "execution_count": 14,
   "id": "f3190bf4",
   "metadata": {},
   "outputs": [
    {
     "name": "stdout",
     "output_type": "stream",
     "text": [
      "-1 record inserted!\n"
     ]
    }
   ],
   "source": [
    "import mysql.connector\n",
    "conn=mysql.connector.connect(host=\"localhost\",user=\"root\",passwd=\"root\",database=\"ust\")\n",
    "cur=conn.cursor()\n",
    "\n",
    "cur.execute(\"create table Departments (Dept_id int(20) primary key not null, Dept_Name varchar(20) not null)\")\n",
    "\n",
    "sql = \"insert into departments(dept_id, dept_name) values (%s, %s)\"  \n",
    "  \n",
    "val=  (201, \"CS\")  \n",
    "val1=  (202, \"IT\")\n",
    "try:  \n",
    "     \n",
    "    cur.execute(sql,val)  #inserting the values into the table \n",
    "    conn.commit()              #commit the transaction \n",
    "    cur.execute(sql,val1)  #inserting the values into the table \n",
    "    conn.commit()          #commit the transaction\n",
    "      \n",
    "except:  \n",
    "    conn.rollback()  \n",
    "  \n",
    "print(cur.rowcount,\"record inserted!\")  \n",
    "conn.close() "
   ]
  },
  {
   "cell_type": "code",
   "execution_count": null,
   "id": "1755143e",
   "metadata": {},
   "outputs": [],
   "source": [
    "import mysql.connector\n",
    "conn=mysql.connector.connect(host=\"localhost\",user=\"root\",passwd=\"root\",database=\"ust\")\n",
    "cur=conn.cursor()\n",
    "\n",
    "try:  \n",
    "    #joining the two tables on departments_id  \n",
    "    cur.execute(\"select Employee.id, Employee.name, Employee.salary, Departments.Dept_id, Departments.Dept_Name from Departments join Employee on Departments.Dept_id = Employee.Dept_id\")  \n",
    "    print(\"ID    Name    Salary    Dept_Id    Dept_Name\")  \n",
    "    for row in cur:  \n",
    "        print(\"%d    %s    %d    %d    %s\"%(row[0], row[1],row[2],row[3],row[4]))  \n",
    "          \n",
    "except:  \n",
    "    conn.rollback()  \n",
    "  \n",
    "conn.close()  "
   ]
  },
  {
   "cell_type": "code",
   "execution_count": null,
   "id": "a3ad0737",
   "metadata": {},
   "outputs": [],
   "source": [
    "import mysql.connector  \n",
    "  \n",
    "#Create the connection object   \n",
    "conn = mysql.connector.connect(host = \"localhost\", user = \"root\",passwd = \"root\",database = \"ust\")  \n",
    "  \n",
    "#creating the cursor object  \n",
    "cur = conn.cursor()  \n",
    "  \n",
    "try:  \n",
    "    #joining the two tables on departments_id  \n",
    "    result = cur.execute(\"select Employee.id, Employee.name, Employee.salary, Departments.Dept_id, Departments.Dept_Name from Departments right join Employee on Departments.Dept_id = Employee.Dept_id\")  \n",
    "      \n",
    "    print(\"ID    Name    Salary    Dept_Id    Dept_Name\")  \n",
    "      \n",
    "    for row in cur:  \n",
    "        print(row[0],\"    \", row[1],\"    \",row[2],\"    \",row[3],\"    \",row[4])  \n",
    "      \n",
    "      \n",
    "          \n",
    "except:  \n",
    "    conn.rollback()  \n",
    "  \n",
    "conn.close()  "
   ]
  },
  {
   "cell_type": "code",
   "execution_count": null,
   "id": "415eb81b",
   "metadata": {},
   "outputs": [],
   "source": [
    "import mysql.connector  \n",
    "  \n",
    "#Create the connection object   \n",
    "myconn = mysql.connector.connect(host = \"localhost\", user = \"root\",passwd = \"root\",database = \"ust\")  \n",
    "  \n",
    "#creating the cursor object  \n",
    "cur = myconn.cursor()  \n",
    "try:  \n",
    "     \n",
    "    cur.execute(\"SELECT * FROM employee LIMIT 1 OFFSET 3\")            #limit offset \n",
    "    myresult=cur.fetchall()\n",
    "\n",
    "    for x in myresult:\n",
    "        print(x)       \n",
    "except:  \n",
    "    myconn.rollback()  \n",
    "  \n",
    "myconn.close()  \n",
    "\n"
   ]
  }
 ],
 "metadata": {
  "kernelspec": {
   "display_name": "Python 3 (ipykernel)",
   "language": "python",
   "name": "python3"
  },
  "language_info": {
   "codemirror_mode": {
    "name": "ipython",
    "version": 3
   },
   "file_extension": ".py",
   "mimetype": "text/x-python",
   "name": "python",
   "nbconvert_exporter": "python",
   "pygments_lexer": "ipython3",
   "version": "3.9.7"
  }
 },
 "nbformat": 4,
 "nbformat_minor": 5
}
